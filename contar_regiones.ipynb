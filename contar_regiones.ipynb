{
 "cells": [
  {
   "cell_type": "code",
   "execution_count": 1,
   "metadata": {},
   "outputs": [],
   "source": [
    "import PyPDF2\n",
    "import pandas as pd\n",
    "\n",
    "# Función para extraer texto de un PDF\n",
    "def extract_text_from_pdf(file_path):\n",
    "    with open(file_path, 'rb') as file:\n",
    "        reader = PyPDF2.PdfReader(file)\n",
    "        text = ''\n",
    "        for page in reader.pages:\n",
    "            text += page.extract_text()\n",
    "    return text\n",
    "\n",
    "# # Para chatgpt\n",
    "# import fitz  # PyMuPDF\n",
    "\n",
    "# def extract_text_with_pymupdf(file_path):\n",
    "#     doc = fitz.open(file_path)\n",
    "#     text = ''\n",
    "#     for page in doc:\n",
    "#         text += page.get_text()\n",
    "#     return text\n",
    "\n",
    "# Lista de regiones fuera de Lima\n",
    "regiones = [\"Amazonas\", \"Áncash\", \"Apurímac\", \"Arequipa\", \"Ayacucho\", \"Cajamarca\", \"Callao\", \"Cusco\", \n",
    "            \"Huancavelica\", \"Huánuco\", \"Ica\", \"Junín\", \"La Libertad\", \"Lambayeque\", \"Loreto\", \"Madre de Dios\", \n",
    "            \"Moquegua\", \"Pasco\", \"Piura\", \"Puno\", \"San Martín\", \"Tacna\", \"Tumbes\", \"Ucayali\"]\n",
    "\n",
    "# Función para contar menciones de regiones en un texto\n",
    "def count_region_mentions(text, regiones):\n",
    "    counts = {region: text.count(region) for region in regiones}\n",
    "    return counts\n",
    "\n",
    "# Leer y analizar cada discurso\n",
    "files = {\n",
    "    \"Dina Boluarte\": r\"C:\\Users\\Brillitt\\Downloads\\Discursos presidenciales (Transcripcion Literal)\\Dina Bolaurte.pdf\",\n",
    "    \"Pedro Castillo\": r\"C:\\Users\\Brillitt\\Downloads\\Discursos presidenciales (Transcripcion Literal)\\Pedro Castillo.pdf\",\n",
    "    \"Martín Vizcarra\": r\"C:\\Users\\Brillitt\\Downloads\\Discursos presidenciales (Transcripcion Literal)\\Martín Vizcarra.pdf\",\n",
    "    \"PPK\": r\"C:\\Users\\Brillitt\\Downloads\\Discursos presidenciales (Transcripcion Literal)\\PPK.pdf\",\n",
    "    \"Ollanta Humala\": r\"C:\\Users\\Brillitt\\Downloads\\Discursos presidenciales (Transcripcion Literal)\\Ollanta Humala.pdf\"\n",
    "}"
   ]
  },
  {
   "cell_type": "code",
   "execution_count": 2,
   "metadata": {},
   "outputs": [
    {
     "name": "stdout",
     "output_type": "stream",
     "text": [
      "   Amazonas  Áncash  Apurímac  Arequipa  Ayacucho  Cajamarca  Callao  Cusco  \\\n",
      "0         8      12         5         7        10         12       9     14   \n",
      "1         4       3         8         6        10          3       2     10   \n",
      "2         0       1         2         6         4          1       1      7   \n",
      "3         0       0         0         1         0          0       4      1   \n",
      "4         0       0         1         0         2          0       0      3   \n",
      "\n",
      "   Huancavelica  Huánuco  ...  Madre de Dios  Moquegua  Pasco  Piura  Puno  \\\n",
      "0             5       10  ...              0         5      5     14    16   \n",
      "1             7        5  ...              1         3      1      3     5   \n",
      "2             4        0  ...              1         6      1      5     8   \n",
      "3             0        0  ...              0         0      0      4     0   \n",
      "4             1        0  ...              2         2      1      0     1   \n",
      "\n",
      "   San Martín  Tacna  Tumbes  Ucayali       Presidente  \n",
      "0          10      2       2        5    Dina Boluarte  \n",
      "1           3      4       3        3   Pedro Castillo  \n",
      "2           2      5       5        0  Martín Vizcarra  \n",
      "3           0      1       1        0              PPK  \n",
      "4           0      1       0        1   Ollanta Humala  \n",
      "\n",
      "[5 rows x 25 columns]\n"
     ]
    }
   ],
   "source": [
    "# Almacenar resultados en un dataframe\n",
    "results = []\n",
    "\n",
    "for president, file_path in files.items():\n",
    "    text = extract_text_from_pdf(file_path)\n",
    "    counts = count_region_mentions(text, regiones)\n",
    "    counts[\"Presidente\"] = president\n",
    "    results.append(counts)\n",
    "\n",
    "df = pd.DataFrame(results)\n",
    "\n",
    "print(df.transpose)"
   ]
  },
  {
   "cell_type": "code",
   "execution_count": 4,
   "metadata": {},
   "outputs": [
    {
     "name": "stdout",
     "output_type": "stream",
     "text": [
      "+---+----------+--------+----------+----------+----------+-----------+--------+-------+--------------+---------+-----+-------+-------------+------------+--------+---------------+----------+-------+-------+------+------------+-------+--------+---------+-----------------+\n",
      "|   | Amazonas | Áncash | Apurímac | Arequipa | Ayacucho | Cajamarca | Callao | Cusco | Huancavelica | Huánuco | Ica | Junín | La Libertad | Lambayeque | Loreto | Madre de Dios | Moquegua | Pasco | Piura | Puno | San Martín | Tacna | Tumbes | Ucayali |   Presidente    |\n",
      "+---+----------+--------+----------+----------+----------+-----------+--------+-------+--------------+---------+-----+-------+-------------+------------+--------+---------------+----------+-------+-------+------+------------+-------+--------+---------+-----------------+\n",
      "| 0 |    8     |   12   |    5     |    7     |    10    |    12     |   9    |  14   |      5       |   10    | 12  |  17   |     14      |     11     |   7    |       0       |    5     |   5   |  14   |  16  |     10     |   2   |   2    |    5    |  Dina Boluarte  |\n",
      "| 1 |    4     |   3    |    8     |    6     |    10    |     3     |   2    |  10   |      7       |    5    |  2  |   4   |      5      |     3      |   7    |       1       |    3     |   1   |   3   |  5   |     3      |   4   |   3    |    3    | Pedro Castillo  |\n",
      "| 2 |    0     |   1    |    2     |    6     |    4     |     1     |   1    |   7   |      4       |    0    |  2  |   1   |      3      |     1      |   1    |       1       |    6     |   1   |   5   |  8   |     2      |   5   |   5    |    0    | Martín Vizcarra |\n",
      "| 3 |    0     |   0    |    0     |    1     |    0     |     0     |   4    |   1   |      0       |    0    |  1  |   0   |      0      |     0      |   0    |       0       |    0     |   0   |   4   |  0   |     0      |   1   |   1    |    0    |       PPK       |\n",
      "| 4 |    0     |   0    |    1     |    0     |    2     |     0     |   0    |   3   |      1       |    0    |  3  |   1   |      0      |     0      |   1    |       2       |    2     |   1   |   0   |  1   |     0      |   1   |   0    |    1    | Ollanta Humala  |\n",
      "+---+----------+--------+----------+----------+----------+-----------+--------+-------+--------------+---------+-----+-------+-------------+------------+--------+---------------+----------+-------+-------+------+------------+-------+--------+---------+-----------------+\n"
     ]
    }
   ],
   "source": [
    "from tabulate import tabulate\n",
    "\n",
    "print(tabulate(df, headers='keys', tablefmt='pretty'))"
   ]
  }
 ],
 "metadata": {
  "kernelspec": {
   "display_name": "Python 3",
   "language": "python",
   "name": "python3"
  },
  "language_info": {
   "codemirror_mode": {
    "name": "ipython",
    "version": 3
   },
   "file_extension": ".py",
   "mimetype": "text/x-python",
   "name": "python",
   "nbconvert_exporter": "python",
   "pygments_lexer": "ipython3",
   "version": "3.11.2"
  }
 },
 "nbformat": 4,
 "nbformat_minor": 2
}
