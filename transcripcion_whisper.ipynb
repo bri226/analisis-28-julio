{
 "cells": [
  {
   "cell_type": "code",
   "execution_count": 1,
   "metadata": {},
   "outputs": [],
   "source": [
    "import os\n",
    "from pytube import YouTube\n",
    "from moviepy.editor import VideoFileClip\n",
    "import whisper\n",
    "import time\n",
    "import datetime\n",
    "import subprocess\n",
    "\n",
    "audio_path = 'audio.wav'"
   ]
  },
  {
   "cell_type": "code",
   "execution_count": 4,
   "metadata": {},
   "outputs": [
    {
     "name": "stdout",
     "output_type": "stream",
     "text": [
      "Empezó transcripción, 2024-06-28 11:40:44.774710\n"
     ]
    }
   ],
   "source": [
    "print(f\"Empezó transcripción, {datetime.datetime.now()}\")\n",
    "# model = whisper.load_model(\"base\")  # You can use \"base\", \"small\", \"medium\", \"large\"\n",
    "model_path = \"base.pt\" #\"base.pt\"\n",
    "model = whisper.load_model(model_path)\n",
    "result = model.transcribe(audio_path, language=\"es\")"
   ]
  },
  {
   "cell_type": "code",
   "execution_count": 5,
   "metadata": {},
   "outputs": [],
   "source": [
    "with open(\"archivo.txt\", \"w\", encoding=\"utf-8\") as archivo:\n",
    "    archivo.write(result[\"text\"])"
   ]
  }
 ],
 "metadata": {
  "kernelspec": {
   "display_name": "Python 3",
   "language": "python",
   "name": "python3"
  },
  "language_info": {
   "codemirror_mode": {
    "name": "ipython",
    "version": 3
   },
   "file_extension": ".py",
   "mimetype": "text/x-python",
   "name": "python",
   "nbconvert_exporter": "python",
   "pygments_lexer": "ipython3",
   "version": "3.11.8"
  }
 },
 "nbformat": 4,
 "nbformat_minor": 2
}
