{
 "cells": [
  {
   "cell_type": "code",
   "execution_count": null,
   "metadata": {},
   "outputs": [],
   "source": [
    "import os\n",
    "from pytube import YouTube\n",
    "from moviepy.editor import VideoFileClip\n",
    "import whisper\n",
    "import time\n",
    "import datetime\n",
    "import subprocess\n",
    "\n",
    "audio_path = 'audio.wav'"
   ]
  },
  {
   "cell_type": "code",
   "execution_count": null,
   "metadata": {},
   "outputs": [],
   "source": [
    "print(f\"Empezó transcripción, {datetime.datetime.now()}\")\n",
    "# model = whisper.load_model(\"base\")  # You can use \"base\", \"small\", \"medium\", \"large\"\n",
    "model_path = \"small.pt\" #\"base.pt\"\n",
    "model = whisper.load_model(model_path)\n",
    "result = model.transcribe(audio_path, language=language)"
   ]
  },
  {
   "cell_type": "code",
   "execution_count": null,
   "metadata": {},
   "outputs": [],
   "source": [
    "with open(\"archivo.txt\", \"w\", encoding=\"utf-8\") as archivo:\n",
    "    archivo.write(result[\"text\"])"
   ]
  }
 ],
 "metadata": {
  "language_info": {
   "name": "python"
  }
 },
 "nbformat": 4,
 "nbformat_minor": 2
}
